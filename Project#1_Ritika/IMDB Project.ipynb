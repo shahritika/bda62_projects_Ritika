{
 "cells": [
  {
   "cell_type": "markdown",
   "id": "71297d19-ba02-4472-aa21-f8a69282a7e5",
   "metadata": {},
   "source": [
    "# IMDB PROJECT"
   ]
  },
  {
   "cell_type": "code",
   "execution_count": 12,
   "id": "bbf62155-4318-470f-adce-67cc9eff22f7",
   "metadata": {},
   "outputs": [],
   "source": [
    "# import dependencies required for the project\n",
    "import requests                    # Used to send HTTP requests to the website\n",
    "from bs4 import BeautifulSoup      # Used to parse and navigate through HTML content\n",
    "import pandas as pd                # Used to create a DataFrame and handle data manipulation\n",
    "import json                        # Used to work with JSON data\n",
    " \n",
    "import matplotlib.pyplot as plt   # Used to plot charts"
   ]
  },
  {
   "cell_type": "markdown",
   "id": "9a4fdff2-1062-4475-8df8-b03ea2fb7cb6",
   "metadata": {},
   "source": [
    "# STEP 1: FETCHING MOVIES FROM URL"
   ]
  },
  {
   "cell_type": "code",
   "execution_count": 4,
   "id": "5493edba-f058-4caf-8e5b-ce329a2c3ea1",
   "metadata": {},
   "outputs": [],
   "source": [
    "# Define URL of the IMDb chart for top rated movies\n",
    "url = \"https://www.imdb.com/chart/top/\"\n",
    "headers = {\n",
    "    'User-Agent': 'Mozilla/5.0 (Windows NT 10.0; Win64; x64) AppleWebKit/537.36 (KHTML, like Gecko) Chrome/91.0.4472.124 Safari/537.36'\n",
    "}"
   ]
  },
  {
   "cell_type": "code",
   "execution_count": 8,
   "id": "6b711461-d75c-435f-9de0-8bb4c08439ec",
   "metadata": {},
   "outputs": [
    {
     "data": {
      "text/plain": [
       "<Response [200]>"
      ]
     },
     "execution_count": 8,
     "metadata": {},
     "output_type": "execute_result"
    }
   ],
   "source": [
    "# Send a GET request to fetch the webpage content\n",
    "response = requests.get(url, headers=headers)\n",
    "response"
   ]
  },
  {
   "cell_type": "markdown",
   "id": "130364d4-4795-486a-8cad-97536113b2bb",
   "metadata": {},
   "source": [
    "# STEP 2: PARSE THE HTML CONTENT USING BEAUTIFULSOUP"
   ]
  },
  {
   "cell_type": "code",
   "execution_count": 19,
   "id": "34dcd451-7324-42f6-9e5f-9e42de69b212",
   "metadata": {},
   "outputs": [],
   "source": [
    "soup = BeautifulSoup(response.text, 'html.parser')"
   ]
  },
  {
   "cell_type": "markdown",
   "id": "aaab8459-6ce2-4afb-b3b1-67e417de9bf0",
   "metadata": {},
   "source": [
    "# STEP 3: EXTRACT JSON STRUCTURED DATA CONTAINING MOVIE TITLES"
   ]
  },
  {
   "cell_type": "code",
   "execution_count": 25,
   "id": "c344330d-c744-4929-a7b3-bd14f20fe821",
   "metadata": {},
   "outputs": [],
   "source": [
    "script_tag = soup.find('script', type='application/ld+json')\n",
    "data = json.loads(script_tag.string) # Convert the JSON data (string) into a Python dictionary"
   ]
  },
  {
   "cell_type": "markdown",
   "id": "68fe0306-01d1-4044-9233-4634139ba4cd",
   "metadata": {},
   "source": [
    "# STEP 4: EXTRACT MOVIE DETAILS"
   ]
  },
  {
   "cell_type": "code",
   "execution_count": 30,
   "id": "f9aed5bc-ea3a-473f-a61a-1f1983d656cf",
   "metadata": {},
   "outputs": [],
   "source": [
    "# Initialize the lists to hold relevant details\n",
    "titles = []\n",
    "durations = []\n",
    "urls = []\n",
    "descriptions = []\n",
    "rating_values = []"
   ]
  },
  {
   "cell_type": "code",
   "execution_count": 32,
   "id": "f53de414-9733-4d15-8d84-426b69c6f311",
   "metadata": {},
   "outputs": [],
   "source": [
    "if 'itemListElement' in data:\n",
    "\n",
    "    # Loop through each movie in the 'itemListElement'\n",
    "\n",
    "    for item in data['itemListElement']:\n",
    "\n",
    "        # Access the individual movie data inside 'item'\n",
    "\n",
    "        movie = item['item']\n",
    "\n",
    "        # Extract movie details and append them to the corresponding lists\n",
    "\n",
    "        # If a specific field is missing, we use 'N/A' as a fallback\n",
    "\n",
    "        titles.append(movie.get('name', 'N/A'))  # Movie title\n",
    "\n",
    "        durations.append(movie.get('duration', 'N/A'))  # Movie duration\n",
    "\n",
    "        urls.append(movie.get('url', 'N/A'))     # IMDb page URL\n",
    "\n",
    "        descriptions.append(movie.get('description', 'N/A'))  # Movie description                \n",
    "\n",
    "        rating_values.append(movie.get('aggregateRating', {}).get('ratingValue', 'N/A'))  # Current movie rating\n",
    "\n",
    "# Creating pandas dataframe to store the extracted data\n",
    "\n",
    "df = pd.DataFrame({\n",
    "\n",
    "    'Title': titles,              # Column for movie titles\n",
    "\n",
    "    'Duration': durations,         # Column for the movie's duration \n",
    "\n",
    "    'URL': urls,                  # Column for IMDb URLs\n",
    "\n",
    "    'Description': descriptions,  # Column for movie descriptions \n",
    "\n",
    "    'Rating Value': rating_values # Column for the actual user rating   \n",
    "\n",
    "})"
   ]
  },
  {
   "cell_type": "code",
   "execution_count": 34,
   "id": "455abb1c-cdf1-470e-be77-56c6faaf47d5",
   "metadata": {},
   "outputs": [
    {
     "name": "stdout",
     "output_type": "stream",
     "text": [
      "Data saved as 'scrapped_IMDBmovies.csv'\n"
     ]
    }
   ],
   "source": [
    "# Save the DataFrame to a CSV file\n",
    "df.to_csv('scrapped_IMDBmovies.csv', index=False)  # index=False means we do not save the index column\n",
    "print(\"Data saved as 'scrapped_IMDBmovies.csv'\")"
   ]
  },
  {
   "cell_type": "code",
   "execution_count": 36,
   "id": "1a8dd888-0964-4294-a05e-d0b5ae015b98",
   "metadata": {},
   "outputs": [
    {
     "data": {
      "text/html": [
       "<div>\n",
       "<style scoped>\n",
       "    .dataframe tbody tr th:only-of-type {\n",
       "        vertical-align: middle;\n",
       "    }\n",
       "\n",
       "    .dataframe tbody tr th {\n",
       "        vertical-align: top;\n",
       "    }\n",
       "\n",
       "    .dataframe thead th {\n",
       "        text-align: right;\n",
       "    }\n",
       "</style>\n",
       "<table border=\"1\" class=\"dataframe\">\n",
       "  <thead>\n",
       "    <tr style=\"text-align: right;\">\n",
       "      <th></th>\n",
       "      <th>Title</th>\n",
       "      <th>Duration</th>\n",
       "      <th>URL</th>\n",
       "      <th>Description</th>\n",
       "      <th>Rating Value</th>\n",
       "    </tr>\n",
       "  </thead>\n",
       "  <tbody>\n",
       "    <tr>\n",
       "      <th>0</th>\n",
       "      <td>The Shawshank Redemption</td>\n",
       "      <td>PT2H22M</td>\n",
       "      <td>https://www.imdb.com/title/tt0111161/</td>\n",
       "      <td>A banker convicted of uxoricide forms a friend...</td>\n",
       "      <td>9.3</td>\n",
       "    </tr>\n",
       "    <tr>\n",
       "      <th>1</th>\n",
       "      <td>The Godfather</td>\n",
       "      <td>PT2H55M</td>\n",
       "      <td>https://www.imdb.com/title/tt0068646/</td>\n",
       "      <td>The aging patriarch of an organized crime dyna...</td>\n",
       "      <td>9.2</td>\n",
       "    </tr>\n",
       "    <tr>\n",
       "      <th>2</th>\n",
       "      <td>The Dark Knight</td>\n",
       "      <td>PT2H32M</td>\n",
       "      <td>https://www.imdb.com/title/tt0468569/</td>\n",
       "      <td>When a menace known as the Joker wreaks havoc ...</td>\n",
       "      <td>9.0</td>\n",
       "    </tr>\n",
       "    <tr>\n",
       "      <th>3</th>\n",
       "      <td>The Godfather Part II</td>\n",
       "      <td>PT3H22M</td>\n",
       "      <td>https://www.imdb.com/title/tt0071562/</td>\n",
       "      <td>The early life and career of Vito Corleone in ...</td>\n",
       "      <td>9.0</td>\n",
       "    </tr>\n",
       "    <tr>\n",
       "      <th>4</th>\n",
       "      <td>12 Angry Men</td>\n",
       "      <td>PT1H36M</td>\n",
       "      <td>https://www.imdb.com/title/tt0050083/</td>\n",
       "      <td>The jury in a New York City murder trial is fr...</td>\n",
       "      <td>9.0</td>\n",
       "    </tr>\n",
       "  </tbody>\n",
       "</table>\n",
       "</div>"
      ],
      "text/plain": [
       "                      Title Duration                                    URL  \\\n",
       "0  The Shawshank Redemption  PT2H22M  https://www.imdb.com/title/tt0111161/   \n",
       "1             The Godfather  PT2H55M  https://www.imdb.com/title/tt0068646/   \n",
       "2           The Dark Knight  PT2H32M  https://www.imdb.com/title/tt0468569/   \n",
       "3     The Godfather Part II  PT3H22M  https://www.imdb.com/title/tt0071562/   \n",
       "4              12 Angry Men  PT1H36M  https://www.imdb.com/title/tt0050083/   \n",
       "\n",
       "                                         Description  Rating Value  \n",
       "0  A banker convicted of uxoricide forms a friend...           9.3  \n",
       "1  The aging patriarch of an organized crime dyna...           9.2  \n",
       "2  When a menace known as the Joker wreaks havoc ...           9.0  \n",
       "3  The early life and career of Vito Corleone in ...           9.0  \n",
       "4  The jury in a New York City murder trial is fr...           9.0  "
      ]
     },
     "execution_count": 36,
     "metadata": {},
     "output_type": "execute_result"
    }
   ],
   "source": [
    "df.head()"
   ]
  },
  {
   "cell_type": "markdown",
   "id": "2a34fec6-f949-43fa-9988-69b8b9da0d77",
   "metadata": {},
   "source": [
    "# STEP 4: Data Cleaning and Transformation"
   ]
  },
  {
   "cell_type": "code",
   "execution_count": 40,
   "id": "4bf90a79-05ef-4675-9c97-4e64d3a54b81",
   "metadata": {},
   "outputs": [
    {
     "name": "stdout",
     "output_type": "stream",
     "text": [
      "Total number of NaN values:\n",
      " Title           0\n",
      "Duration        0\n",
      "URL             0\n",
      "Description     0\n",
      "Rating Value    0\n",
      "dtype: int64\n"
     ]
    }
   ],
   "source": [
    "# Count None values per row\n",
    "nan_counts = df.isna().sum(axis=1)\n",
    "print(f\"Total number of NaN values:\\n {df.isna().sum()}\")"
   ]
  },
  {
   "cell_type": "code",
   "execution_count": 42,
   "id": "fd01a08b-100d-4bbe-9d3d-ecd1163d420f",
   "metadata": {},
   "outputs": [
    {
     "name": "stdout",
     "output_type": "stream",
     "text": [
      "Total number of null values:\n",
      " Title           0\n",
      "Duration        0\n",
      "URL             0\n",
      "Description     0\n",
      "Rating Value    0\n",
      "dtype: int64\n"
     ]
    }
   ],
   "source": [
    "# Count Null values per row\n",
    "nan_counts = df.isnull().sum(axis=1)\n",
    "print(f\"Total number of null values:\\n {df.isnull().sum()}\")"
   ]
  },
  {
   "cell_type": "code",
   "execution_count": 44,
   "id": "215c8262-7da7-49cb-8113-722aa37227b6",
   "metadata": {},
   "outputs": [
    {
     "name": "stdout",
     "output_type": "stream",
     "text": [
      "There are 0 duplicate entries.\n"
     ]
    }
   ],
   "source": [
    "# Check for duplicate values\n",
    "duplicates = df.duplicated(keep=False)\n",
    "df.duplicated().sum()\n",
    "print(f\"There are {df.duplicated().sum()} duplicate entries.\")"
   ]
  },
  {
   "cell_type": "code",
   "execution_count": 46,
   "id": "cc8a4e17-e659-40a8-99b1-7290ebdbf80c",
   "metadata": {},
   "outputs": [],
   "source": [
    "# Data Transformation\n",
    "# Convert ISO time format into minutes only\n",
    "def convert_iso_to_minutes(iso_duration):\n",
    "    # Remove the \"PT\" prefix\n",
    "    iso_duration = iso_duration.replace(\"PT\", \"\")\n",
    " \n",
    "    # Initialize hours and minutes\n",
    "    hours = 0\n",
    "    minutes = 0\n",
    " \n",
    "    # Find the \"H\" and \"M\" components\n",
    "    if \"H\" in iso_duration:\n",
    "        hours = int(iso_duration.split(\"H\")[0])\n",
    "        iso_duration = iso_duration.split(\"H\")[1]\n",
    "    if \"M\" in iso_duration:\n",
    "        minutes = int(iso_duration.split(\"M\")[0])\n",
    " \n",
    "    # Convert hours to minutes and sum up\n",
    "    total_minutes = (hours * 60) + minutes\n",
    "    return total_minutes"
   ]
  },
  {
   "cell_type": "code",
   "execution_count": 48,
   "id": "c18dd815-99a5-4f05-a117-53d2d0701180",
   "metadata": {},
   "outputs": [
    {
     "data": {
      "text/html": [
       "<div>\n",
       "<style scoped>\n",
       "    .dataframe tbody tr th:only-of-type {\n",
       "        vertical-align: middle;\n",
       "    }\n",
       "\n",
       "    .dataframe tbody tr th {\n",
       "        vertical-align: top;\n",
       "    }\n",
       "\n",
       "    .dataframe thead th {\n",
       "        text-align: right;\n",
       "    }\n",
       "</style>\n",
       "<table border=\"1\" class=\"dataframe\">\n",
       "  <thead>\n",
       "    <tr style=\"text-align: right;\">\n",
       "      <th></th>\n",
       "      <th>Title</th>\n",
       "      <th>Duration</th>\n",
       "      <th>URL</th>\n",
       "      <th>Description</th>\n",
       "      <th>Rating Value</th>\n",
       "    </tr>\n",
       "  </thead>\n",
       "  <tbody>\n",
       "    <tr>\n",
       "      <th>0</th>\n",
       "      <td>The Shawshank Redemption</td>\n",
       "      <td>142</td>\n",
       "      <td>https://www.imdb.com/title/tt0111161/</td>\n",
       "      <td>A banker convicted of uxoricide forms a friend...</td>\n",
       "      <td>9.3</td>\n",
       "    </tr>\n",
       "    <tr>\n",
       "      <th>1</th>\n",
       "      <td>The Godfather</td>\n",
       "      <td>175</td>\n",
       "      <td>https://www.imdb.com/title/tt0068646/</td>\n",
       "      <td>The aging patriarch of an organized crime dyna...</td>\n",
       "      <td>9.2</td>\n",
       "    </tr>\n",
       "    <tr>\n",
       "      <th>2</th>\n",
       "      <td>The Dark Knight</td>\n",
       "      <td>152</td>\n",
       "      <td>https://www.imdb.com/title/tt0468569/</td>\n",
       "      <td>When a menace known as the Joker wreaks havoc ...</td>\n",
       "      <td>9.0</td>\n",
       "    </tr>\n",
       "    <tr>\n",
       "      <th>3</th>\n",
       "      <td>The Godfather Part II</td>\n",
       "      <td>202</td>\n",
       "      <td>https://www.imdb.com/title/tt0071562/</td>\n",
       "      <td>The early life and career of Vito Corleone in ...</td>\n",
       "      <td>9.0</td>\n",
       "    </tr>\n",
       "    <tr>\n",
       "      <th>4</th>\n",
       "      <td>12 Angry Men</td>\n",
       "      <td>96</td>\n",
       "      <td>https://www.imdb.com/title/tt0050083/</td>\n",
       "      <td>The jury in a New York City murder trial is fr...</td>\n",
       "      <td>9.0</td>\n",
       "    </tr>\n",
       "  </tbody>\n",
       "</table>\n",
       "</div>"
      ],
      "text/plain": [
       "                      Title  Duration                                    URL  \\\n",
       "0  The Shawshank Redemption       142  https://www.imdb.com/title/tt0111161/   \n",
       "1             The Godfather       175  https://www.imdb.com/title/tt0068646/   \n",
       "2           The Dark Knight       152  https://www.imdb.com/title/tt0468569/   \n",
       "3     The Godfather Part II       202  https://www.imdb.com/title/tt0071562/   \n",
       "4              12 Angry Men        96  https://www.imdb.com/title/tt0050083/   \n",
       "\n",
       "                                         Description  Rating Value  \n",
       "0  A banker convicted of uxoricide forms a friend...           9.3  \n",
       "1  The aging patriarch of an organized crime dyna...           9.2  \n",
       "2  When a menace known as the Joker wreaks havoc ...           9.0  \n",
       "3  The early life and career of Vito Corleone in ...           9.0  \n",
       "4  The jury in a New York City murder trial is fr...           9.0  "
      ]
     },
     "execution_count": 48,
     "metadata": {},
     "output_type": "execute_result"
    }
   ],
   "source": [
    "df['Duration'] = df['Duration'].apply(convert_iso_to_minutes)\n",
    "df.head()\n"
   ]
  },
  {
   "cell_type": "markdown",
   "id": "ace1d81c-a24a-434b-b894-d64a3d9882d0",
   "metadata": {},
   "source": [
    "# STEP 5: DATA VISUALIZATION"
   ]
  },
  {
   "cell_type": "code",
   "execution_count": 51,
   "id": "f6b7145f-9629-4caf-b679-43290b857be9",
   "metadata": {},
   "outputs": [
    {
     "data": {
      "text/plain": [
       "<Figure size 2500x1000 with 0 Axes>"
      ]
     },
     "execution_count": 51,
     "metadata": {},
     "output_type": "execute_result"
    },
    {
     "data": {
      "text/plain": [
       "<Figure size 2500x1000 with 0 Axes>"
      ]
     },
     "metadata": {},
     "output_type": "display_data"
    }
   ],
   "source": [
    "#Box plot\n",
    "plt.figure(figsize = (25,10))"
   ]
  },
  {
   "cell_type": "code",
   "execution_count": 67,
   "id": "95e4826c-8c07-4715-831e-7d7846e68f0e",
   "metadata": {},
   "outputs": [
    {
     "data": {
      "text/plain": [
       "Text(0.5, 0, 'Rating')"
      ]
     },
     "execution_count": 67,
     "metadata": {},
     "output_type": "execute_result"
    },
    {
     "data": {
      "image/png": "[encoded data removed]",
      "text/plain": [
       "<Figure size 640x480 with 2 Axes>"
      ]
     },
     "metadata": {},
     "output_type": "display_data"
    }
   ],
   "source": [
    "# Box plot for  Duration \n",
    "plt.subplot(1,2,1)\n",
    "plt.boxplot(df['Duration'])\n",
    "plt.title('Box Plot of Movie Duration')\n",
    "plt.xlabel(' Duration')\n",
    " \n",
    "# Box plot for  Rating\n",
    "plt.subplot(1,2,2)\n",
    "plt.boxplot(df['Rating Value'])\n",
    "plt.title('Box Plot ofRating')\n",
    "plt.xlabel('Rating')"
   ]
  },
  {
   "cell_type": "code",
   "execution_count": 57,
   "id": "c1c99dd2-03e4-4207-ae51-842ad223fd74",
   "metadata": {},
   "outputs": [
    {
     "data": {
      "text/plain": [
       "Text(0, 0.5, 'Movie Duration')"
      ]
     },
     "execution_count": 57,
     "metadata": {},
     "output_type": "execute_result"
    },
    {
     "data": {
      "image/png": "[encoded data removed]",
      "text/plain": [
       "<Figure size 640x480 with 1 Axes>"
      ]
     },
     "metadata": {},
     "output_type": "display_data"
    }
   ],
   "source": [
    "# Scatter plot for Rating Value and Movie Duration\n",
    "plt.subplot(2, 2, 3)  \n",
    "plt.scatter(x=df['Rating Value'], y=df['Duration'], color='green')\n",
    "plt.title('Movie Duration vs Audience Rating (Scatter Plot)')\n",
    "plt.xlabel('Rating Value')\n",
    "plt.ylabel('Movie Duration')"
   ]
  },
  {
   "cell_type": "code",
   "execution_count": 59,
   "id": "1b382b29-5104-4736-b786-ef0e2ad6bec0",
   "metadata": {},
   "outputs": [
    {
     "name": "stdout",
     "output_type": "stream",
     "text": [
      "Final data saved as 'final_IMDBmovies.csv'\n"
     ]
    }
   ],
   "source": [
    "df.to_csv('final_IMDBmovies.csv', index=False)  \n",
    "print(\"Final data saved as 'final_IMDBmovies.csv'\") "
   ]
  },
  {
   "cell_type": "code",
   "execution_count": null,
   "id": "11b27ab5-858b-4f1a-8d50-5aca0d8f20c6",
   "metadata": {},
   "outputs": [],
   "source": []
  }
 ],
 "metadata": {
  "kernelspec": {
   "display_name": "Python 3 (ipykernel)",
   "language": "python",
   "name": "python3"
  },
  "language_info": {
   "codemirror_mode": {
    "name": "ipython",
    "version": 3
   },
   "file_extension": ".py",
   "mimetype": "text/x-python",
   "name": "python",
   "nbconvert_exporter": "python",
   "pygments_lexer": "ipython3",
   "version": "3.12.4"
  }
 },
 "nbformat": 4,
 "nbformat_minor": 5
}
